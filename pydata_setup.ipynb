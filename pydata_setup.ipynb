{
 "cells": [
  {
   "cell_type": "code",
   "execution_count": 1,
   "metadata": {
    "collapsed": true
   },
   "outputs": [],
   "source": [
    "import pandas as pd\n",
    "import numpy as np\n",
    "import sklearn"
   ]
  },
  {
   "cell_type": "markdown",
   "metadata": {},
   "source": []
  },
  {
   "cell_type": "code",
   "execution_count": 12,
   "metadata": {
    "collapsed": true
   },
   "outputs": [],
   "source": [
    "%matplotlib inline"
   ]
  },
  {
   "cell_type": "code",
   "execution_count": 2,
   "metadata": {
    "collapsed": true
   },
   "outputs": [],
   "source": [
    "df = pd.read_excel('data/Subway & SRT Logs (Jan01_14 to June 30_17).xlsx')"
   ]
  },
  {
   "cell_type": "code",
   "execution_count": 3,
   "metadata": {},
   "outputs": [
    {
     "data": {
      "text/html": [
       "<div>\n",
       "<style>\n",
       "    .dataframe thead tr:only-child th {\n",
       "        text-align: right;\n",
       "    }\n",
       "\n",
       "    .dataframe thead th {\n",
       "        text-align: left;\n",
       "    }\n",
       "\n",
       "    .dataframe tbody tr th {\n",
       "        vertical-align: top;\n",
       "    }\n",
       "</style>\n",
       "<table border=\"1\" class=\"dataframe\">\n",
       "  <thead>\n",
       "    <tr style=\"text-align: right;\">\n",
       "      <th></th>\n",
       "      <th>Date</th>\n",
       "      <th>Time</th>\n",
       "      <th>Day</th>\n",
       "      <th>Station</th>\n",
       "      <th>Code</th>\n",
       "      <th>Min Delay</th>\n",
       "      <th>Min Gap</th>\n",
       "      <th>Bound</th>\n",
       "      <th>Line</th>\n",
       "      <th>Vehicle</th>\n",
       "    </tr>\n",
       "  </thead>\n",
       "  <tbody>\n",
       "    <tr>\n",
       "      <th>0</th>\n",
       "      <td>2014-01-01</td>\n",
       "      <td>00:21</td>\n",
       "      <td>Wednesday</td>\n",
       "      <td>VICTORIA PARK STATION</td>\n",
       "      <td>MUPR1</td>\n",
       "      <td>55</td>\n",
       "      <td>60</td>\n",
       "      <td>W</td>\n",
       "      <td>BD</td>\n",
       "      <td>5111</td>\n",
       "    </tr>\n",
       "    <tr>\n",
       "      <th>1</th>\n",
       "      <td>2014-01-01</td>\n",
       "      <td>02:06</td>\n",
       "      <td>Wednesday</td>\n",
       "      <td>HIGH PARK STATION</td>\n",
       "      <td>SUDP</td>\n",
       "      <td>3</td>\n",
       "      <td>7</td>\n",
       "      <td>W</td>\n",
       "      <td>BD</td>\n",
       "      <td>5001</td>\n",
       "    </tr>\n",
       "    <tr>\n",
       "      <th>2</th>\n",
       "      <td>2014-01-01</td>\n",
       "      <td>02:40</td>\n",
       "      <td>Wednesday</td>\n",
       "      <td>SHEPPARD STATION</td>\n",
       "      <td>MUNCA</td>\n",
       "      <td>0</td>\n",
       "      <td>0</td>\n",
       "      <td>NaN</td>\n",
       "      <td>YU</td>\n",
       "      <td>0</td>\n",
       "    </tr>\n",
       "    <tr>\n",
       "      <th>3</th>\n",
       "      <td>2014-01-01</td>\n",
       "      <td>03:10</td>\n",
       "      <td>Wednesday</td>\n",
       "      <td>LANSDOWNE STATION</td>\n",
       "      <td>SUDP</td>\n",
       "      <td>3</td>\n",
       "      <td>8</td>\n",
       "      <td>W</td>\n",
       "      <td>BD</td>\n",
       "      <td>5116</td>\n",
       "    </tr>\n",
       "    <tr>\n",
       "      <th>4</th>\n",
       "      <td>2014-01-01</td>\n",
       "      <td>03:20</td>\n",
       "      <td>Wednesday</td>\n",
       "      <td>BLOOR STATION</td>\n",
       "      <td>MUSAN</td>\n",
       "      <td>5</td>\n",
       "      <td>10</td>\n",
       "      <td>S</td>\n",
       "      <td>YU</td>\n",
       "      <td>5386</td>\n",
       "    </tr>\n",
       "  </tbody>\n",
       "</table>\n",
       "</div>"
      ],
      "text/plain": [
       "        Date   Time        Day                Station   Code  Min Delay  \\\n",
       "0 2014-01-01  00:21  Wednesday  VICTORIA PARK STATION  MUPR1         55   \n",
       "1 2014-01-01  02:06  Wednesday      HIGH PARK STATION   SUDP          3   \n",
       "2 2014-01-01  02:40  Wednesday       SHEPPARD STATION  MUNCA          0   \n",
       "3 2014-01-01  03:10  Wednesday      LANSDOWNE STATION   SUDP          3   \n",
       "4 2014-01-01  03:20  Wednesday          BLOOR STATION  MUSAN          5   \n",
       "\n",
       "   Min Gap Bound Line  Vehicle  \n",
       "0       60     W   BD     5111  \n",
       "1        7     W   BD     5001  \n",
       "2        0   NaN   YU        0  \n",
       "3        8     W   BD     5116  \n",
       "4       10     S   YU     5386  "
      ]
     },
     "execution_count": 3,
     "metadata": {},
     "output_type": "execute_result"
    }
   ],
   "source": [
    "df.head()"
   ]
  },
  {
   "cell_type": "code",
   "execution_count": 4,
   "metadata": {
    "collapsed": true
   },
   "outputs": [],
   "source": [
    "codes = pd.read_excel('data/Subway & SRT Log Codes.xlsx')"
   ]
  },
  {
   "cell_type": "code",
   "execution_count": 5,
   "metadata": {},
   "outputs": [
    {
     "data": {
      "text/html": [
       "<div>\n",
       "<style>\n",
       "    .dataframe thead tr:only-child th {\n",
       "        text-align: right;\n",
       "    }\n",
       "\n",
       "    .dataframe thead th {\n",
       "        text-align: left;\n",
       "    }\n",
       "\n",
       "    .dataframe tbody tr th {\n",
       "        vertical-align: top;\n",
       "    }\n",
       "</style>\n",
       "<table border=\"1\" class=\"dataframe\">\n",
       "  <thead>\n",
       "    <tr style=\"text-align: right;\">\n",
       "      <th></th>\n",
       "      <th>Unnamed: 0</th>\n",
       "      <th>Unnamed: 1</th>\n",
       "      <th>SUB RMENU CODE</th>\n",
       "      <th>CODE DESCRIPTION</th>\n",
       "      <th>Unnamed: 4</th>\n",
       "      <th>Unnamed: 5</th>\n",
       "      <th>SRT RMENU CODE</th>\n",
       "      <th>CODE DESCRIPTION.1</th>\n",
       "    </tr>\n",
       "  </thead>\n",
       "  <tbody>\n",
       "    <tr>\n",
       "      <th>0</th>\n",
       "      <td>NaN</td>\n",
       "      <td>1</td>\n",
       "      <td>EUAC</td>\n",
       "      <td>Air Conditioning</td>\n",
       "      <td>NaN</td>\n",
       "      <td>1.0</td>\n",
       "      <td>ERAC</td>\n",
       "      <td>Air Conditioning</td>\n",
       "    </tr>\n",
       "    <tr>\n",
       "      <th>1</th>\n",
       "      <td>NaN</td>\n",
       "      <td>2</td>\n",
       "      <td>EUAL</td>\n",
       "      <td>Alternating Current</td>\n",
       "      <td>NaN</td>\n",
       "      <td>2.0</td>\n",
       "      <td>ERBO</td>\n",
       "      <td>Body</td>\n",
       "    </tr>\n",
       "    <tr>\n",
       "      <th>2</th>\n",
       "      <td>NaN</td>\n",
       "      <td>3</td>\n",
       "      <td>EUBK</td>\n",
       "      <td>Brakes</td>\n",
       "      <td>NaN</td>\n",
       "      <td>3.0</td>\n",
       "      <td>ERCD</td>\n",
       "      <td>Consequential Delay (2nd Delay Same Fault)</td>\n",
       "    </tr>\n",
       "    <tr>\n",
       "      <th>3</th>\n",
       "      <td>NaN</td>\n",
       "      <td>4</td>\n",
       "      <td>EUBO</td>\n",
       "      <td>Body</td>\n",
       "      <td>NaN</td>\n",
       "      <td>4.0</td>\n",
       "      <td>ERCO</td>\n",
       "      <td>Couplers</td>\n",
       "    </tr>\n",
       "    <tr>\n",
       "      <th>4</th>\n",
       "      <td>NaN</td>\n",
       "      <td>5</td>\n",
       "      <td>EUCA</td>\n",
       "      <td>Compressed Air</td>\n",
       "      <td>NaN</td>\n",
       "      <td>5.0</td>\n",
       "      <td>ERDB</td>\n",
       "      <td>Disc Brakes</td>\n",
       "    </tr>\n",
       "  </tbody>\n",
       "</table>\n",
       "</div>"
      ],
      "text/plain": [
       "   Unnamed: 0  Unnamed: 1 SUB RMENU CODE     CODE DESCRIPTION  Unnamed: 4  \\\n",
       "0         NaN           1           EUAC     Air Conditioning         NaN   \n",
       "1         NaN           2           EUAL  Alternating Current         NaN   \n",
       "2         NaN           3           EUBK               Brakes         NaN   \n",
       "3         NaN           4           EUBO                 Body         NaN   \n",
       "4         NaN           5           EUCA       Compressed Air         NaN   \n",
       "\n",
       "   Unnamed: 5 SRT RMENU CODE                          CODE DESCRIPTION.1  \n",
       "0         1.0           ERAC                            Air Conditioning  \n",
       "1         2.0           ERBO                                        Body  \n",
       "2         3.0           ERCD  Consequential Delay (2nd Delay Same Fault)  \n",
       "3         4.0           ERCO                                    Couplers  \n",
       "4         5.0           ERDB                                 Disc Brakes  "
      ]
     },
     "execution_count": 5,
     "metadata": {},
     "output_type": "execute_result"
    }
   ],
   "source": [
    "codes.head()"
   ]
  },
  {
   "cell_type": "code",
   "execution_count": 6,
   "metadata": {},
   "outputs": [
    {
     "data": {
      "text/plain": [
       "(72218, 10)"
      ]
     },
     "execution_count": 6,
     "metadata": {},
     "output_type": "execute_result"
    }
   ],
   "source": [
    "df.shape"
   ]
  },
  {
   "cell_type": "code",
   "execution_count": 21,
   "metadata": {},
   "outputs": [
    {
     "data": {
      "text/plain": [
       "<matplotlib.axes._subplots.AxesSubplot at 0x1189ef748>"
      ]
     },
     "execution_count": 21,
     "metadata": {},
     "output_type": "execute_result"
    },
    {
     "data": {
      "image/png": "[encoded data removed]",
      "text/plain": [
       "<matplotlib.figure.Figure at 0x1189db940>"
      ]
     },
     "metadata": {},
     "output_type": "display_data"
    }
   ],
   "source": [
    "df.set_index('Date').groupby(pd.Grouper(freq='D'))['Vehicle'].count().plot()"
   ]
  },
  {
   "cell_type": "code",
   "execution_count": 15,
   "metadata": {},
   "outputs": [
    {
     "data": {
      "text/plain": [
       "Date         datetime64[ns]\n",
       "Time                 object\n",
       "Day                  object\n",
       "Station              object\n",
       "Code                 object\n",
       "Min Delay             int64\n",
       "Min Gap               int64\n",
       "Bound                object\n",
       "Line                 object\n",
       "Vehicle               int64\n",
       "dtype: object"
      ]
     },
     "execution_count": 15,
     "metadata": {},
     "output_type": "execute_result"
    }
   ],
   "source": [
    "df.dtypes"
   ]
  },
  {
   "cell_type": "code",
   "execution_count": 17,
   "metadata": {},
   "outputs": [
    {
     "data": {
      "text/plain": [
       "0        2014-01-01\n",
       "1        2014-01-01\n",
       "2        2014-01-01\n",
       "3        2014-01-01\n",
       "4        2014-01-01\n",
       "5        2014-01-01\n",
       "6        2014-01-01\n",
       "7        2014-01-01\n",
       "8        2014-01-01\n",
       "9        2014-01-01\n",
       "10       2014-01-01\n",
       "11       2014-01-01\n",
       "12       2014-01-01\n",
       "13       2014-01-01\n",
       "14       2014-01-01\n",
       "15       2014-01-01\n",
       "16       2014-01-01\n",
       "17       2014-01-01\n",
       "18       2014-01-01\n",
       "19       2014-01-01\n",
       "20       2014-01-01\n",
       "21       2014-01-01\n",
       "22       2014-01-01\n",
       "23       2014-01-01\n",
       "24       2014-01-01\n",
       "25       2014-01-01\n",
       "26       2014-01-01\n",
       "27       2014-01-01\n",
       "28       2014-01-01\n",
       "29       2014-01-01\n",
       "            ...    \n",
       "72188    2017-06-30\n",
       "72189    2017-06-30\n",
       "72190    2017-06-30\n",
       "72191    2017-06-30\n",
       "72192    2017-06-30\n",
       "72193    2017-06-30\n",
       "72194    2017-06-30\n",
       "72195    2017-06-30\n",
       "72196    2017-06-30\n",
       "72197    2017-06-30\n",
       "72198    2017-06-30\n",
       "72199    2017-06-30\n",
       "72200    2017-06-30\n",
       "72201    2017-06-30\n",
       "72202    2017-06-30\n",
       "72203    2017-06-30\n",
       "72204    2017-06-30\n",
       "72205    2017-06-30\n",
       "72206    2017-06-30\n",
       "72207    2017-06-30\n",
       "72208    2017-06-30\n",
       "72209    2017-06-30\n",
       "72210    2017-06-30\n",
       "72211    2017-06-30\n",
       "72212    2017-06-30\n",
       "72213    2017-06-30\n",
       "72214    2017-06-30\n",
       "72215    2017-06-30\n",
       "72216    2017-06-30\n",
       "72217    2017-06-30\n",
       "Name: Date, Length: 72218, dtype: object"
      ]
     },
     "execution_count": 17,
     "metadata": {},
     "output_type": "execute_result"
    }
   ],
   "source": [
    "df['Date'].astype('str')"
   ]
  },
  {
   "cell_type": "code",
   "execution_count": 19,
   "metadata": {},
   "outputs": [],
   "source": [
    "df['datetime'] = pd.to_datetime(df['Date'].astype('str') + ' ' + df['Time'])"
   ]
  },
  {
   "cell_type": "code",
   "execution_count": 23,
   "metadata": {},
   "outputs": [
    {
     "data": {
      "text/plain": [
       "<matplotlib.axes._subplots.AxesSubplot at 0x116f6f7f0>"
      ]
     },
     "execution_count": 23,
     "metadata": {},
     "output_type": "execute_result"
    },
    {
     "data": {
      "image/png": "[encoded data removed]",
      "text/plain": [
       "<matplotlib.figure.Figure at 0x116f99630>"
      ]
     },
     "metadata": {},
     "output_type": "display_data"
    }
   ],
   "source": [
    "df.set_index('datetime').groupby(pd.Grouper(freq='H'))['Vehicle'].count().plot()"
   ]
  },
  {
   "cell_type": "code",
   "execution_count": 24,
   "metadata": {},
   "outputs": [
    {
     "data": {
      "text/plain": [
       "datetime\n",
       "2014-01-01 00:15:00    1\n",
       "2014-01-01 00:30:00    0\n",
       "2014-01-01 00:45:00    0\n",
       "2014-01-01 01:00:00    0\n",
       "2014-01-01 01:15:00    0\n",
       "2014-01-01 01:30:00    0\n",
       "2014-01-01 01:45:00    0\n",
       "2014-01-01 02:00:00    1\n",
       "2014-01-01 02:15:00    0\n",
       "2014-01-01 02:30:00    1\n",
       "2014-01-01 02:45:00    0\n",
       "2014-01-01 03:00:00    1\n",
       "2014-01-01 03:15:00    2\n",
       "2014-01-01 03:30:00    0\n",
       "2014-01-01 03:45:00    0\n",
       "2014-01-01 04:00:00    0\n",
       "2014-01-01 04:15:00    0\n",
       "2014-01-01 04:30:00    0\n",
       "2014-01-01 04:45:00    0\n",
       "2014-01-01 05:00:00    0\n",
       "2014-01-01 05:15:00    0\n",
       "2014-01-01 05:30:00    0\n",
       "2014-01-01 05:45:00    0\n",
       "2014-01-01 06:00:00    0\n",
       "2014-01-01 06:15:00    0\n",
       "2014-01-01 06:30:00    0\n",
       "2014-01-01 06:45:00    0\n",
       "2014-01-01 07:00:00    0\n",
       "2014-01-01 07:15:00    0\n",
       "2014-01-01 07:30:00    4\n",
       "                      ..\n",
       "2017-06-30 16:30:00    0\n",
       "2017-06-30 16:45:00    0\n",
       "2017-06-30 17:00:00    1\n",
       "2017-06-30 17:15:00    2\n",
       "2017-06-30 17:30:00    1\n",
       "2017-06-30 17:45:00    0\n",
       "2017-06-30 18:00:00    0\n",
       "2017-06-30 18:15:00    0\n",
       "2017-06-30 18:30:00    2\n",
       "2017-06-30 18:45:00    0\n",
       "2017-06-30 19:00:00    2\n",
       "2017-06-30 19:15:00    1\n",
       "2017-06-30 19:30:00    1\n",
       "2017-06-30 19:45:00    0\n",
       "2017-06-30 20:00:00    2\n",
       "2017-06-30 20:15:00    1\n",
       "2017-06-30 20:30:00    1\n",
       "2017-06-30 20:45:00    1\n",
       "2017-06-30 21:00:00    0\n",
       "2017-06-30 21:15:00    0\n",
       "2017-06-30 21:30:00    0\n",
       "2017-06-30 21:45:00    0\n",
       "2017-06-30 22:00:00    1\n",
       "2017-06-30 22:15:00    0\n",
       "2017-06-30 22:30:00    1\n",
       "2017-06-30 22:45:00    1\n",
       "2017-06-30 23:00:00    0\n",
       "2017-06-30 23:15:00    0\n",
       "2017-06-30 23:30:00    1\n",
       "2017-06-30 23:45:00    1\n",
       "Freq: 15T, Name: Vehicle, Length: 122591, dtype: int64"
      ]
     },
     "execution_count": 24,
     "metadata": {},
     "output_type": "execute_result"
    }
   ],
   "source": [
    "df.set_index('datetime').groupby(pd.Grouper(freq='15min'))['Vehicle'].count()"
   ]
  },
  {
   "cell_type": "code",
   "execution_count": 37,
   "metadata": {},
   "outputs": [],
   "source": [
    "x = df.set_index('datetime').groupby(pd.Grouper(freq='D'))['Vehicle'].transform(lambda x: x.index)\n",
    "x.index = df.index"
   ]
  },
  {
   "cell_type": "code",
   "execution_count": 38,
   "metadata": {},
   "outputs": [
    {
     "data": {
      "text/plain": [
       "0       2014-01-01 00:21:00\n",
       "1       2014-01-01 02:06:00\n",
       "2       2014-01-01 02:40:00\n",
       "3       2014-01-01 03:10:00\n",
       "4       2014-01-01 03:20:00\n",
       "5       2014-01-01 03:29:00\n",
       "6       2014-01-01 07:31:00\n",
       "7       2014-01-01 07:32:00\n",
       "8       2014-01-01 07:34:00\n",
       "9       2014-01-01 07:34:00\n",
       "10      2014-01-01 07:53:00\n",
       "11      2014-01-01 08:20:00\n",
       "12      2014-01-01 08:48:00\n",
       "13      2014-01-01 08:49:00\n",
       "14      2014-01-01 08:53:00\n",
       "15      2014-01-01 08:55:00\n",
       "16      2014-01-01 08:58:00\n",
       "17      2014-01-01 09:00:00\n",
       "18      2014-01-01 09:00:00\n",
       "19      2014-01-01 09:01:00\n",
       "20      2014-01-01 09:10:00\n",
       "21      2014-01-01 09:23:00\n",
       "22      2014-01-01 09:27:00\n",
       "23      2014-01-01 09:32:00\n",
       "24      2014-01-01 09:38:00\n",
       "25      2014-01-01 09:38:00\n",
       "26      2014-01-01 10:25:00\n",
       "27      2014-01-01 10:52:00\n",
       "28      2014-01-01 11:04:00\n",
       "29      2014-01-01 11:20:00\n",
       "                ...        \n",
       "72188   2017-06-30 13:42:00\n",
       "72189   2017-06-30 13:57:00\n",
       "72190   2017-06-30 14:06:00\n",
       "72191   2017-06-30 14:35:00\n",
       "72192   2017-06-30 15:06:00\n",
       "72193   2017-06-30 15:11:00\n",
       "72194   2017-06-30 15:21:00\n",
       "72195   2017-06-30 15:54:00\n",
       "72196   2017-06-30 15:57:00\n",
       "72197   2017-06-30 16:21:00\n",
       "72198   2017-06-30 17:06:00\n",
       "72199   2017-06-30 17:18:00\n",
       "72200   2017-06-30 17:28:00\n",
       "72201   2017-06-30 17:43:00\n",
       "72202   2017-06-30 18:36:00\n",
       "72203   2017-06-30 18:38:00\n",
       "72204   2017-06-30 19:06:00\n",
       "72205   2017-06-30 19:12:00\n",
       "72206   2017-06-30 19:21:00\n",
       "72207   2017-06-30 19:41:00\n",
       "72208   2017-06-30 20:04:00\n",
       "72209   2017-06-30 20:08:00\n",
       "72210   2017-06-30 20:28:00\n",
       "72211   2017-06-30 20:33:00\n",
       "72212   2017-06-30 20:54:00\n",
       "72213   2017-06-30 22:00:00\n",
       "72214   2017-06-30 22:30:00\n",
       "72215   2017-06-30 22:58:00\n",
       "72216   2017-06-30 23:30:00\n",
       "72217   2017-06-30 23:57:00\n",
       "Name: Vehicle, Length: 72218, dtype: datetime64[ns]"
      ]
     },
     "execution_count": 38,
     "metadata": {},
     "output_type": "execute_result"
    }
   ],
   "source": [
    "dfx"
   ]
  },
  {
   "cell_type": "code",
   "execution_count": null,
   "metadata": {
    "collapsed": true
   },
   "outputs": [],
   "source": []
  },
  {
   "cell_type": "code",
   "execution_count": null,
   "metadata": {
    "collapsed": true
   },
   "outputs": [],
   "source": []
  },
  {
   "cell_type": "code",
   "execution_count": null,
   "metadata": {
    "collapsed": true
   },
   "outputs": [],
   "source": []
  },
  {
   "cell_type": "code",
   "execution_count": null,
   "metadata": {
    "collapsed": true
   },
   "outputs": [],
   "source": []
  },
  {
   "cell_type": "code",
   "execution_count": null,
   "metadata": {
    "collapsed": true
   },
   "outputs": [],
   "source": []
  },
  {
   "cell_type": "code",
   "execution_count": null,
   "metadata": {
    "collapsed": true
   },
   "outputs": [],
   "source": []
  },
  {
   "cell_type": "code",
   "execution_count": null,
   "metadata": {
    "collapsed": true
   },
   "outputs": [],
   "source": []
  },
  {
   "cell_type": "code",
   "execution_count": null,
   "metadata": {
    "collapsed": true
   },
   "outputs": [],
   "source": []
  },
  {
   "cell_type": "code",
   "execution_count": null,
   "metadata": {
    "collapsed": true
   },
   "outputs": [],
   "source": []
  },
  {
   "cell_type": "code",
   "execution_count": null,
   "metadata": {
    "collapsed": true
   },
   "outputs": [],
   "source": []
  },
  {
   "cell_type": "code",
   "execution_count": null,
   "metadata": {
    "collapsed": true
   },
   "outputs": [],
   "source": []
  },
  {
   "cell_type": "code",
   "execution_count": null,
   "metadata": {
    "collapsed": true
   },
   "outputs": [],
   "source": []
  },
  {
   "cell_type": "code",
   "execution_count": null,
   "metadata": {
    "collapsed": true
   },
   "outputs": [],
   "source": []
  },
  {
   "cell_type": "code",
   "execution_count": null,
   "metadata": {
    "collapsed": true
   },
   "outputs": [],
   "source": []
  },
  {
   "cell_type": "code",
   "execution_count": null,
   "metadata": {
    "collapsed": true
   },
   "outputs": [],
   "source": []
  },
  {
   "cell_type": "code",
   "execution_count": null,
   "metadata": {
    "collapsed": true
   },
   "outputs": [],
   "source": []
  },
  {
   "cell_type": "code",
   "execution_count": null,
   "metadata": {
    "collapsed": true
   },
   "outputs": [],
   "source": []
  },
  {
   "cell_type": "code",
   "execution_count": null,
   "metadata": {
    "collapsed": true
   },
   "outputs": [],
   "source": []
  },
  {
   "cell_type": "code",
   "execution_count": null,
   "metadata": {
    "collapsed": true
   },
   "outputs": [],
   "source": []
  },
  {
   "cell_type": "code",
   "execution_count": null,
   "metadata": {
    "collapsed": true
   },
   "outputs": [],
   "source": []
  }
 ],
 "metadata": {
  "kernelspec": {
   "display_name": "Python [conda env:pydata_toronto_aug2017]",
   "language": "python",
   "name": "conda-env-pydata_toronto_aug2017-py"
  },
  "language_info": {
   "codemirror_mode": {
    "name": "ipython",
    "version": 3
   },
   "file_extension": ".py",
   "mimetype": "text/x-python",
   "name": "python",
   "nbconvert_exporter": "python",
   "pygments_lexer": "ipython3",
   "version": "3.6.2"
  }
 },
 "nbformat": 4,
 "nbformat_minor": 2
}
